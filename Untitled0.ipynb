{
  "nbformat": 4,
  "nbformat_minor": 0,
  "metadata": {
    "colab": {
      "provenance": [],
      "authorship_tag": "ABX9TyMUr21ugrEzjQGAsFZMgcxF",
      "include_colab_link": true
    },
    "kernelspec": {
      "name": "python3",
      "display_name": "Python 3"
    },
    "language_info": {
      "name": "python"
    }
  },
  "cells": [
    {
      "cell_type": "markdown",
      "metadata": {
        "id": "view-in-github",
        "colab_type": "text"
      },
      "source": [
        "<a href=\"https://colab.research.google.com/github/oxlusio/final-project-practice/blob/main/Untitled0.ipynb\" target=\"_parent\"><img src=\"https://colab.research.google.com/assets/colab-badge.svg\" alt=\"Open In Colab\"/></a>"
      ]
    },
    {
      "cell_type": "markdown",
      "source": [
        "Program that stores the prices of five grocery items in a list, asks the user to enter the quanities of each item, and calculates the cost and prints total of all items."
      ],
      "metadata": {
        "id": "97pys5oEb1U3"
      }
    },
    {
      "cell_type": "code",
      "execution_count": 2,
      "metadata": {
        "colab": {
          "base_uri": "https://localhost:8080/"
        },
        "id": "8_q9z2HNaYpD",
        "outputId": "9be5ab64-2a91-490a-fe87-ab24ab010a1c"
      },
      "outputs": [
        {
          "output_type": "stream",
          "name": "stdout",
          "text": [
            "Please enter the quantity for each item:\n",
            "Enter quantity for Apples (price: $1.99): 3\n",
            "Enter quantity for Milk: (price: $3.50): 2\n",
            "Enter quantity for Bananas (price: $0.99): 1\n",
            "Enter quantity for Bread (price: $2.75): 1\n",
            "Enter quantity for Eggs (price: $3.75): 1\n",
            "\n",
            "Your shopping list:\n",
            "Apples: 3 x $1.99 = $5.97\n",
            "Milk:: 2 x $3.50 = $7.00\n",
            "Bananas: 1 x $0.99 = $0.99\n",
            "Bread: 1 x $2.75 = $2.75\n",
            "Eggs: 1 x $3.75 = $3.75\n",
            "\n",
            "Total bill: $20.46\n"
          ]
        }
      ],
      "source": [
        "#stores prices of 5 grocery items in a list\n",
        "#asks the user for quantities of each\n",
        "#calculate and print total cost of all items\n",
        "\n",
        "grocery_prices = {\n",
        "    \"Apples\": 1.99,\n",
        "    \"Milk:\": 3.50,\n",
        "    \"Bananas\": 0.99,\n",
        "    \"Bread\": 2.75,\n",
        "    \"Eggs\": 3.75,\n",
        "}\n",
        "\n",
        "item_quantities = {}\n",
        "\n",
        "print(\"Please enter the quantity for each item:\")\n",
        "for item, price in grocery_prices.items():\n",
        "    while True:\n",
        "        try:\n",
        "            quantity = int(input(f\"Enter quantity for {item} (price: ${price:.2f}): \"))\n",
        "            if quantity >= 0:\n",
        "                item_quantities[item] = quantity\n",
        "                break\n",
        "            else:\n",
        "                print(\"Quantity cannot be negative. Please enter a positive number.\")\n",
        "        except ValueError:\n",
        "            print(\"Invalid input. Please enter a whole number for the quantity.\")\n",
        "\n",
        "# You can now use item_quantities to calculate the total bill\n",
        "total_bill = 0\n",
        "print(\"\\nYour shopping list:\")\n",
        "for item, quantity in item_quantities.items():\n",
        "    if quantity > 0:\n",
        "        price = grocery_prices[item]\n",
        "        item_total = quantity * price\n",
        "        total_bill += item_total\n",
        "        print(f\"{item.capitalize()}: {quantity} x ${price:.2f} = ${item_total:.2f}\")\n",
        "\n",
        "print(f\"\\nTotal bill: ${total_bill:.2f}\")"
      ]
    },
    {
      "cell_type": "markdown",
      "source": [
        "A program that takes a sentence as input, splits the words and stores them in a set, and prints the set of unique words and the number of unique words."
      ],
      "metadata": {
        "id": "g4tg2paoeEy2"
      }
    },
    {
      "cell_type": "code",
      "source": [
        "def unique_words(sentence):\n",
        "  words = sentence.split()\n",
        "  unique_set = set(words)\n",
        "  print(\"Unique words:\", unique_set)\n",
        "  print(\"Number of unique words:\", len(unique_set))\n",
        "\n",
        "if __name__ == \"__main__\":\n",
        "  sentence = input(\"Enter a sentence: \")\n",
        "  unique_words(sentence)"
      ],
      "metadata": {
        "colab": {
          "base_uri": "https://localhost:8080/"
        },
        "id": "jbJ8-WMvePYe",
        "outputId": "91465dd3-b304-4983-d404-646864b23c7e"
      },
      "execution_count": 4,
      "outputs": [
        {
          "output_type": "stream",
          "name": "stdout",
          "text": [
            "Enter a sentence: I enjoy eating a lot I suppose.\n",
            "Unique words: {'enjoy', 'a', 'suppose.', 'lot', 'I', 'eating'}\n",
            "Number of unique words: 6\n"
          ]
        }
      ]
    },
    {
      "cell_type": "markdown",
      "source": [
        "A program that creates a dictionary with 3 people's names as keys and their fav fruit as values, prints the dictionary, and asks the user to type a person's name and their fav fruit"
      ],
      "metadata": {
        "id": "sO6RCny4fORq"
      }
    },
    {
      "cell_type": "code",
      "source": [
        "favorite_fruits = {\n",
        "    \"Alice\": \"Apple\",\n",
        "    \"Bob\": \"Banana\",\n",
        "    \"Charlie\": \"Cherry\",\n",
        "}\n",
        "\n",
        "print(\"Favorite fruits Dictionary:\", favorite_fruits)\n",
        "\n",
        "name = input(\"Enter a person's name: \")\n",
        "if name in favorite_fruits:\n",
        "    print(f\"{name}'s favorite fruit is {favorite_fruits[name]}.\")\n",
        "else:\n",
        "    print(\"{name} is not in the dictionary.\")"
      ],
      "metadata": {
        "colab": {
          "base_uri": "https://localhost:8080/"
        },
        "id": "9Eyef2eVfZwW",
        "outputId": "6006a322-d903-420c-832b-f4cf52e219ba"
      },
      "execution_count": 5,
      "outputs": [
        {
          "output_type": "stream",
          "name": "stdout",
          "text": [
            "Favorite fruits Dictionary: {'Alice': 'Apple', 'Bob': 'Banana', 'Charlie': 'Cherry'}\n",
            "Enter a person's name: Alice\n",
            "Alice's favorite fruit is Apple.\n"
          ]
        }
      ]
    },
    {
      "cell_type": "markdown",
      "source": [
        "Program that asks user for number, then uses it for a lop to print a multiplication table up to 10"
      ],
      "metadata": {
        "id": "P3UpskiQfwvW"
      }
    },
    {
      "cell_type": "code",
      "source": [
        "number = int(input(\"Enter a number: \"))\n",
        "\n",
        "print(f\"Multiplication table for {number}:\")\n",
        "for i in range(1, 11):\n",
        "    result = number * i\n",
        "    print(f\"{number} x {i} = {result}\")\n",
        "#"
      ],
      "metadata": {
        "colab": {
          "base_uri": "https://localhost:8080/"
        },
        "id": "HBdqhBarf3gH",
        "outputId": "3be81dfc-38ab-4e2c-8dfd-b070beba08a7"
      },
      "execution_count": 6,
      "outputs": [
        {
          "output_type": "stream",
          "name": "stdout",
          "text": [
            "Enter a number: 5\n",
            "Multiplication table for 5:\n",
            "5 x 1 = 5\n",
            "5 x 2 = 10\n",
            "5 x 3 = 15\n",
            "5 x 4 = 20\n",
            "5 x 5 = 25\n",
            "5 x 6 = 30\n",
            "5 x 7 = 35\n",
            "5 x 8 = 40\n",
            "5 x 9 = 45\n",
            "5 x 10 = 50\n"
          ]
        }
      ]
    },
    {
      "cell_type": "markdown",
      "source": [
        "Program that writes seperate functions for add, subtract, multiply, and divide. It also asks the user to input two numbers and choose an operation. It will correctly call the correct operation and print the result."
      ],
      "metadata": {
        "id": "8F1B-UMBgApF"
      }
    },
    {
      "cell_type": "code",
      "source": [
        "def add(x, y):\n",
        "    return x + y\n",
        "\n",
        "def subtract(x, y):\n",
        "    return x - y\n",
        "\n",
        "def multiply(x, y):\n",
        "    return x * y\n",
        "\n",
        "def divide(x, y):\n",
        "  if y == 0:\n",
        "    return \"Cannot divide by zero\"\n",
        "  return x / y\n",
        "\n",
        "if __name__ == \"__main__\":\n",
        "  print(\"Simple Calculator\")\n",
        "  num1 = float(input(\"Enter first number: \"))\n",
        "  num2 = float(input(\"Enter second number: \"))\n",
        "  print(\"Select operation:\")\n",
        "  print(\"1. Add\")\n",
        "  print(\"2. Subtract\")\n",
        "  print(\"3. Multiply\")\n",
        "  print(\"4. Divide\")\n",
        "  choice = input(\"Enter choice (1/2/3/4): \")\n",
        "\n",
        "  if choice == '1':\n",
        "    print(\"Result:\", add(num1, num2))\n",
        "  elif choice == '2':\n",
        "    print(\"Result:\", subtract(num1, num2))\n",
        "  elif choice == '3':\n",
        "    print(\"Result:\", multiply(num1, num2))\n",
        "  elif choice == '4':\n",
        "    print(\"Result:\", divide(num1, num2))\n",
        "  else:\n",
        "    print(\"Invalid input\")\n",
        "\n",
        "  print(\"Result:\", choice)\n"
      ],
      "metadata": {
        "colab": {
          "base_uri": "https://localhost:8080/"
        },
        "id": "g0D_E4lGgLZg",
        "outputId": "e0f07894-a604-449e-e012-80576bcd56ff"
      },
      "execution_count": 10,
      "outputs": [
        {
          "output_type": "stream",
          "name": "stdout",
          "text": [
            "Simple Calculator\n",
            "Enter first number: 3\n",
            "Enter second number: 4\n",
            "Select operation:\n",
            "1. Add\n",
            "2. Subtract\n",
            "3. Multiply\n",
            "4. Divide\n",
            "Enter choice (1/2/3/4): 3\n",
            "Result: 12.0\n",
            "Result: 3\n"
          ]
        }
      ]
    }
  ]
}